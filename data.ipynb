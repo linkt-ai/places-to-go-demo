{
 "cells": [
  {
   "cell_type": "code",
   "execution_count": 2,
   "metadata": {},
   "outputs": [],
   "source": [
    "import json\n"
   ]
  },
  {
   "cell_type": "code",
   "execution_count": 16,
   "metadata": {},
   "outputs": [
    {
     "name": "stdout",
     "output_type": "stream",
     "text": [
      "Total locations: 2813 | Successful: 1839 | Remaining: 974 | Failed: 0\n"
     ]
    }
   ],
   "source": [
    "with open(\"scrape/locations_finished.json\", \"r\") as f:\n",
    "    successful_locations = json.load(f)\n",
    "\n",
    "with open(\"scrape/locations_remaining.json\", \"r\") as f:\n",
    "    remaining_locations = json.load(f)\n",
    "\n",
    "with open(\"scrape/locations.json\", \"r\") as f:\n",
    "    total_locations = json.load(f)\n",
    "\n",
    "with open(\"scrape/locations_failed.json\", \"r\") as f:\n",
    "    failed_locations = json.load(f)\n",
    "\n",
    "if not len(total_locations) == len(successful_locations) + len(remaining_locations) + len(locations_failed):\n",
    "    total_ids = list(set([l[\"id\"] for l in total_locations]))\n",
    "    completed_ids = list(set([l[\"id\"] for l in successful_locations + failed_locations]))\n",
    "    remaining_ids = list(set(total_ids) - set(completed_ids))\n",
    "    \n",
    "    remaining_locations = []\n",
    "    for _id in remaining_ids:\n",
    "        remaining_locations.append([l for l in total_locations if l[\"id\"] == _id][0])\n",
    "    print(\"Reconstructed remaining locations\")\n",
    "    assert len(total_locations) == len(successful_locations) + len(remaining_locations) + len(failed_locations)\n",
    "\n",
    "print(f\"Total locations: {len(total_locations)} | Successful: {len(successful_locations)} | Remaining: {len(remaining_locations)} | Failed: {len(failed_locations)}\")\n",
    "\n",
    "with open(\"scrape/locations_finished.json\", \"w\") as f:\n",
    "    json.dump(successful_locations, f)\n",
    "\n",
    "with open(\"scrape/locations_remaining.json\", \"w\") as f:\n",
    "    json.dump(remaining_locations, f)\n",
    "\n",
    "with open(\"scrape/locations_failed.json\", \"w\") as f:\n",
    "    json.dump(failed_locations, f)\n",
    "\n"
   ]
  },
  {
   "cell_type": "code",
   "execution_count": 5,
   "metadata": {},
   "outputs": [
    {
     "data": {
      "text/plain": [
       "True"
      ]
     },
     "execution_count": 5,
     "metadata": {},
     "output_type": "execute_result"
    }
   ],
   "source": [
    "with open(\"data/searched_location_data.json\", \"r\") as f:\n",
    "    searched_location_data = json.load(f)\n",
    "\n",
    "with open(\"data/location_data.json\", \"r\") as f:\n",
    "    locations = json.load(f)\n",
    "\n",
    "len(locations) > len(searched_location_data)"
   ]
  },
  {
   "cell_type": "code",
   "execution_count": null,
   "metadata": {},
   "outputs": [],
   "source": []
  }
 ],
 "metadata": {
  "kernelspec": {
   "display_name": ".venv",
   "language": "python",
   "name": "python3"
  },
  "language_info": {
   "codemirror_mode": {
    "name": "ipython",
    "version": 3
   },
   "file_extension": ".py",
   "mimetype": "text/x-python",
   "name": "python",
   "nbconvert_exporter": "python",
   "pygments_lexer": "ipython3",
   "version": "3.11.6"
  }
 },
 "nbformat": 4,
 "nbformat_minor": 2
}
