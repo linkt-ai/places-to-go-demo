{
 "cells": [
  {
   "cell_type": "markdown",
   "metadata": {},
   "source": [
    "# Data Aggregation\n",
    "As a first step in the Places to Go Demo, we will need static venue data to create reccomendations from. In production, our venue sources will be managed by a Web Scraper bot that will handle crawling social media and updating the list based on activity. For now, we will populate a static set of 2,500 locations, which will be sourced from 5 cities. \n",
    "\n",
    "The five cities that have been requested by the client for the demo are:\n",
    "- **New York**\n",
    "- **Scottsdale**\n",
    "- **Miami**\n",
    "- **Los Angeles**\n",
    "- **Chicago**\n",
    "\n",
    "We will use the Yelp API to gather the top 500 rated locations in each city. We will then feed the `name` and `categories` field of each response to the AI model, which will seek to associate each venue with a list of keywords.\n",
    "\n",
    "We will need to take the following steps to achieve our task:\n",
    "1. Gather JSON objects for top 500 locations in each city\n",
    "2. Extract exhaustive list of all categories from the 2,500 locations\n",
    "3. Provide list of ChatGPT and prompt it to create a list of 20 keywords for each archetype\n",
    "4. Design prompt for associating businesses with keywords based on `name` and `categories` field \n",
    "5. Run list of 2,500 businesses and store results in a JSON file."
   ]
  },
  {
   "cell_type": "code",
   "execution_count": 9,
   "metadata": {},
   "outputs": [],
   "source": [
    "import os\n",
    "from dotenv import load_dotenv\n",
    "load_dotenv(\"../.env\")\n",
    "\n",
    "YELP_API_KEY = os.getenv(\"YELP_API_KEY\")\n",
    "TRIP_ADVISOR_API_KEY = os.getenv(\"TRIP_ADVISOR_API_KEY\")"
   ]
  },
  {
   "cell_type": "markdown",
   "metadata": {},
   "source": [
    "## 1. Gather JSON Data of Locations\n",
    "We want to start by using the `/businesses/search` endpoint of the Yelp Fusion API to gather the top 500 rated locations in each of our 5 cities. We will store these responses directly in JSON files to retrieve for future steps."
   ]
  },
  {
   "cell_type": "code",
   "execution_count": 14,
   "metadata": {},
   "outputs": [],
   "source": [
    "SEARCH_TERMS = [\"tour\", \"activity\", \"experience\", \"resturant\", \"bar\", \"nightclub\", \"explore\", \"adventure\", \"museum\", \"nature\"]"
   ]
  },
  {
   "cell_type": "code",
   "execution_count": 16,
   "metadata": {},
   "outputs": [],
   "source": [
    "import requests\n",
    "from tqdm import tqdm\n",
    "from typing import Optional\n",
    "\n",
    "# List of cities to search\n",
    "CITIES = [\"New%20York%20City\", \"Scottsdale\", \"Miami\", \"Los%20Angeles\", \"Chicago\"]\n",
    "CITY_CODES = [\"NYC\", \"SCOTTSDALE\", \"MIAMI\", \"LA\", \"CHICAGO\"]\n",
    "\n",
    "CITY_TO_CODE = dict(zip(CITIES, CITY_CODES))\n",
    "\n",
    "# Yelp Fusion API URL\n",
    "API_URL = \"https://api.yelp.com/v3\"\n",
    "BUSINESS_SEARCH_ENDPOINT = \"/businesses/search\"\n",
    "\n",
    "# Search Params For API Request\n",
    "LIMIT = 50\n",
    "SORT_BY = \"best_match\"\n",
    "LOCALE = \"en_US\"\n",
    "\n",
    "# Authorization\n",
    "HEADERS = {\n",
    "    \"Authorization\": \"Bearer \" + YELP_API_KEY,\n",
    "}\n",
    "\n",
    "def request_city_data(city: str):\n",
    "    \"\"\"Request data from Yelp API for a given city\"\"\"\n",
    "    base_url = f\"{API_URL}{BUSINESS_SEARCH_ENDPOINT}?location={city}&limit={LIMIT}&sort_by={SORT_BY}&local={LOCALE}\"\n",
    "    data = []\n",
    "    for i, search_term in enumerate(SEARCH_TERMS):\n",
    "        url = base_url + f\"&term={search_term}\"\n",
    "        results = requests.get(url, headers=HEADERS).json()\n",
    "        # Add the city code to the data\n",
    "        for result in results['businesses']: result['city'] = city\n",
    "        data.extend(results[\"businesses\"])\n",
    "\n",
    "        # Reset the cursor to not interrupt the tqdm progress bar\n",
    "        print(f\"Found {len(results['businesses'])} results for {city} with term {search_term}\")\n",
    "    \n",
    "    # Log City Results\n",
    "    print(f\"Found {len(data)} results for {city}\")\n",
    "    return data\n",
    "\n",
    "def aggregate_city_data():\n",
    "    \"\"\"Aggregate data from all cities\"\"\"\n",
    "    data = []\n",
    "    for city in tqdm(CITIES):\n",
    "        data.extend(request_city_data(city))\n",
    "\n",
    "    print(\"\\r\", end=\"\")\n",
    "    return data"
   ]
  },
  {
   "cell_type": "code",
   "execution_count": 17,
   "metadata": {},
   "outputs": [
    {
     "name": "stderr",
     "output_type": "stream",
     "text": [
      "  0%|          | 0/5 [00:00<?, ?it/s]"
     ]
    },
    {
     "name": "stdout",
     "output_type": "stream",
     "text": [
      "Found 50 results for New%20York%20City with term tour\n",
      "Found 50 results for New%20York%20City with term activity\n",
      "Found 50 results for New%20York%20City with term experience\n",
      "Found 50 results for New%20York%20City with term resturant\n",
      "Found 50 results for New%20York%20City with term bar\n",
      "Found 50 results for New%20York%20City with term nightclub\n",
      "Found 50 results for New%20York%20City with term explore\n",
      "Found 50 results for New%20York%20City with term adventure\n",
      "Found 50 results for New%20York%20City with term museum\n"
     ]
    },
    {
     "name": "stderr",
     "output_type": "stream",
     "text": [
      " 20%|██        | 1/5 [00:07<00:30,  7.53s/it]"
     ]
    },
    {
     "name": "stdout",
     "output_type": "stream",
     "text": [
      "Found 50 results for New%20York%20City with term nature\n",
      "Found 500 results for New%20York%20City\n",
      "Found 50 results for Scottsdale with term tour\n",
      "Found 50 results for Scottsdale with term activity\n",
      "Found 50 results for Scottsdale with term experience\n",
      "Found 50 results for Scottsdale with term resturant\n",
      "Found 50 results for Scottsdale with term bar\n",
      "Found 50 results for Scottsdale with term nightclub\n",
      "Found 50 results for Scottsdale with term explore\n",
      "Found 50 results for Scottsdale with term adventure\n",
      "Found 50 results for Scottsdale with term museum\n"
     ]
    },
    {
     "name": "stderr",
     "output_type": "stream",
     "text": [
      " 40%|████      | 2/5 [00:14<00:21,  7.08s/it]"
     ]
    },
    {
     "name": "stdout",
     "output_type": "stream",
     "text": [
      "Found 50 results for Scottsdale with term nature\n",
      "Found 500 results for Scottsdale\n",
      "Found 50 results for Miami with term tour\n",
      "Found 50 results for Miami with term activity\n",
      "Found 50 results for Miami with term experience\n",
      "Found 50 results for Miami with term resturant\n",
      "Found 50 results for Miami with term bar\n",
      "Found 50 results for Miami with term nightclub\n",
      "Found 50 results for Miami with term explore\n",
      "Found 50 results for Miami with term adventure\n",
      "Found 50 results for Miami with term museum\n"
     ]
    },
    {
     "name": "stderr",
     "output_type": "stream",
     "text": [
      " 60%|██████    | 3/5 [00:22<00:15,  7.54s/it]"
     ]
    },
    {
     "name": "stdout",
     "output_type": "stream",
     "text": [
      "Found 50 results for Miami with term nature\n",
      "Found 500 results for Miami\n",
      "Found 50 results for Los%20Angeles with term tour\n",
      "Found 50 results for Los%20Angeles with term activity\n",
      "Found 50 results for Los%20Angeles with term experience\n",
      "Found 50 results for Los%20Angeles with term resturant\n",
      "Found 50 results for Los%20Angeles with term bar\n",
      "Found 50 results for Los%20Angeles with term nightclub\n",
      "Found 50 results for Los%20Angeles with term explore\n",
      "Found 50 results for Los%20Angeles with term adventure\n",
      "Found 50 results for Los%20Angeles with term museum\n"
     ]
    },
    {
     "name": "stderr",
     "output_type": "stream",
     "text": [
      " 80%|████████  | 4/5 [00:30<00:07,  7.84s/it]"
     ]
    },
    {
     "name": "stdout",
     "output_type": "stream",
     "text": [
      "Found 50 results for Los%20Angeles with term nature\n",
      "Found 500 results for Los%20Angeles\n",
      "Found 50 results for Chicago with term tour\n",
      "Found 50 results for Chicago with term activity\n",
      "Found 50 results for Chicago with term experience\n",
      "Found 50 results for Chicago with term resturant\n",
      "Found 50 results for Chicago with term bar\n",
      "Found 50 results for Chicago with term nightclub\n",
      "Found 50 results for Chicago with term explore\n",
      "Found 50 results for Chicago with term adventure\n",
      "Found 50 results for Chicago with term museum\n"
     ]
    },
    {
     "name": "stderr",
     "output_type": "stream",
     "text": [
      "100%|██████████| 5/5 [00:37<00:00,  7.59s/it]"
     ]
    },
    {
     "name": "stdout",
     "output_type": "stream",
     "text": [
      "Found 50 results for Chicago with term nature\n",
      "Found 500 results for Chicago\n",
      "\r"
     ]
    },
    {
     "name": "stderr",
     "output_type": "stream",
     "text": [
      "\n"
     ]
    }
   ],
   "source": [
    "activity_data = aggregate_city_data()"
   ]
  },
  {
   "cell_type": "code",
   "execution_count": 22,
   "metadata": {},
   "outputs": [],
   "source": [
    "import json\n",
    "# APPEND New Locations to Location Data -- DANGEROUS\n",
    "\n",
    "with open(\"../data/searched_location_data.json\", \"r\", encoding=\"utf-8\") as f:\n",
    "    location_data = json.load(f)\n",
    "\n",
    "total_locations = activity_data + location_data\n",
    "total_location_ids = list(set([location['id'] for location in total_locations]))\n",
    "\n",
    "locations = []\n",
    "for _id in total_location_ids:\n",
    "    for location in total_locations:\n",
    "        if location['id'] == _id:\n",
    "            locations.append(location)\n",
    "            break\n",
    "\n",
    "with open(\"../data/searched_location_data.json\", \"w\", encoding=\"utf-8\") as f:\n",
    "    for loc in locations:\n",
    "        loc['city_code'] = CITY_TO_CODE[loc['city']]\n",
    "    json.dump(locations, f, ensure_ascii=False, indent=4)"
   ]
  }
 ],
 "metadata": {
  "kernelspec": {
   "display_name": ".venv",
   "language": "python",
   "name": "python3"
  },
  "language_info": {
   "codemirror_mode": {
    "name": "ipython",
    "version": 3
   },
   "file_extension": ".py",
   "mimetype": "text/x-python",
   "name": "python",
   "nbconvert_exporter": "python",
   "pygments_lexer": "ipython3",
   "version": "3.11.6"
  }
 },
 "nbformat": 4,
 "nbformat_minor": 2
}
