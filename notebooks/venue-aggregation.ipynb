{
 "cells": [
  {
   "cell_type": "markdown",
   "metadata": {},
   "source": [
    "# Data Aggregation\n",
    "As a first step in the Places to Go Demo, we will need static venue data to create reccomendations from. In production, our venue sources will be managed by a Web Scraper bot that will handle crawling social media and updating the list based on activity. For now, we will populate a static set of 2,500 locations, which will be sourced from 5 cities. \n",
    "\n",
    "The five cities that have been requested by the client for the demo are:\n",
    "- **New York**\n",
    "- **Scottsdale**\n",
    "- **Miami**\n",
    "- **Los Angeles**\n",
    "- **Chicago**\n",
    "\n",
    "We will use the Yelp API to gather the top 500 rated locations in each city. We will then feed the `name` and `categories` field of each response to the AI model, which will seek to associate each venue with a list of keywords.\n",
    "\n",
    "We will need to take the following steps to achieve our task:\n",
    "1. Gather JSON objects for top 500 locations in each city\n",
    "2. Extract exhaustive list of all categories from the 2,500 locations\n",
    "3. Provide list of ChatGPT and prompt it to create a list of 20 keywords for each archetype\n",
    "4. Design prompt for associating businesses with keywords based on `name` and `categories` field \n",
    "5. Run list of 2,500 businesses and store results in a JSON file."
   ]
  },
  {
   "cell_type": "code",
   "execution_count": 5,
   "metadata": {},
   "outputs": [],
   "source": [
    "import os\n",
    "from dotenv import load_dotenv\n",
    "load_dotenv(\"../.env\")\n",
    "\n",
    "YELP_API_KEY = os.getenv(\"YELP_API_KEY\")"
   ]
  },
  {
   "cell_type": "markdown",
   "metadata": {},
   "source": [
    "## 1. Gather JSON Data of Locations\n",
    "We want to start by using the `/businesses/search` endpoint of the Yelp Fusion API to gather the top 500 rated locations in each of our 5 cities. We will store these responses directly in JSON files to retrieve for future steps."
   ]
  },
  {
   "cell_type": "code",
   "execution_count": 29,
   "metadata": {},
   "outputs": [],
   "source": [
    "import requests\n",
    "from tqdm import tqdm\n",
    "\n",
    "# List of cities to search\n",
    "CITIES = [\"New%20York%20City\", \"Scottsdale\", \"Miami\", \"Los%20Angeles\", \"Chicago\"]\n",
    "\n",
    "# Yelp Fusion API URL\n",
    "API_URL = \"https://api.yelp.com/v3\"\n",
    "BUSINESS_SEARCH_ENDPOINT = \"/businesses/search\"\n",
    "\n",
    "# Search Params For API Request\n",
    "LIMIT = 50\n",
    "SORT_BY = \"rating\"\n",
    "\n",
    "# Authorization\n",
    "HEADERS = {\n",
    "    \"Authorization\": \"Bearer \" + YELP_API_KEY,\n",
    "}\n",
    "\n",
    "def request_city_data(city: str):\n",
    "    \"\"\"Request data from Yelp API for a given city\"\"\"\n",
    "    base_url = f\"{API_URL}{BUSINESS_SEARCH_ENDPOINT}?location={city}&limit={LIMIT}&sort_by={SORT_BY}\"\n",
    "    url = base_url + \"&offset={}\"\n",
    "    offset = 0\n",
    "    data = []\n",
    "    for i in range(10):\n",
    "        results = requests.get(url.format(offset), headers=HEADERS).json()\n",
    "        offset += LIMIT\n",
    "        data.extend(results[\"businesses\"])\n",
    "    return data\n",
    "\n",
    "\n",
    "def extract_location_data():\n",
    "    \"\"\"Extract location data from Yelp API\"\"\"\n",
    "    data = []\n",
    "    for city in tqdm(CITIES):\n",
    "        try:\n",
    "            print(\"Requesting data for\", city)\n",
    "            city_results = request_city_data(city)\n",
    "            data.extend(city_results)\n",
    "            print(f\"Received {len(city_results)} results for {city}. Total: {len(data)}\")\n",
    "        except:\n",
    "            print(\"Failed to request data for\", city)\n",
    "    return data"
   ]
  },
  {
   "cell_type": "code",
   "execution_count": 30,
   "metadata": {},
   "outputs": [
    {
     "name": "stderr",
     "output_type": "stream",
     "text": [
      "  0%|          | 0/5 [00:00<?, ?it/s]"
     ]
    },
    {
     "name": "stdout",
     "output_type": "stream",
     "text": [
      "Requesting data for New%20York%20City\n"
     ]
    },
    {
     "name": "stderr",
     "output_type": "stream",
     "text": [
      " 20%|██        | 1/5 [00:06<00:26,  6.53s/it]"
     ]
    },
    {
     "name": "stdout",
     "output_type": "stream",
     "text": [
      "Received 500 results for New%20York%20City. Total: 500\n",
      "Requesting data for Scottsdale\n"
     ]
    },
    {
     "name": "stderr",
     "output_type": "stream",
     "text": [
      " 40%|████      | 2/5 [00:13<00:20,  6.90s/it]"
     ]
    },
    {
     "name": "stdout",
     "output_type": "stream",
     "text": [
      "Received 500 results for Scottsdale. Total: 1000\n",
      "Requesting data for Miami\n"
     ]
    },
    {
     "name": "stderr",
     "output_type": "stream",
     "text": [
      " 60%|██████    | 3/5 [00:21<00:14,  7.37s/it]"
     ]
    },
    {
     "name": "stdout",
     "output_type": "stream",
     "text": [
      "Received 500 results for Miami. Total: 1500\n",
      "Requesting data for Los%20Angeles\n"
     ]
    },
    {
     "name": "stderr",
     "output_type": "stream",
     "text": [
      " 80%|████████  | 4/5 [00:29<00:07,  7.61s/it]"
     ]
    },
    {
     "name": "stdout",
     "output_type": "stream",
     "text": [
      "Received 500 results for Los%20Angeles. Total: 2000\n",
      "Requesting data for Chicago\n"
     ]
    },
    {
     "name": "stderr",
     "output_type": "stream",
     "text": [
      "100%|██████████| 5/5 [00:36<00:00,  7.36s/it]"
     ]
    },
    {
     "name": "stdout",
     "output_type": "stream",
     "text": [
      "Received 500 results for Chicago. Total: 2500\n"
     ]
    },
    {
     "name": "stderr",
     "output_type": "stream",
     "text": [
      "\n"
     ]
    }
   ],
   "source": [
    "data = extract_location_data()"
   ]
  },
  {
   "cell_type": "code",
   "execution_count": 33,
   "metadata": {},
   "outputs": [],
   "source": [
    "import json\n",
    "\n",
    "with open(\"../data/raw_location_data.json\", \"w\", encoding=\"utf-8\") as f:\n",
    "    json.dump(data, f, ensure_ascii=False, indent=4)"
   ]
  },
  {
   "cell_type": "markdown",
   "metadata": {},
   "source": [
    "## 2. Extract Exhuastive Category List from Locations\n",
    "We now want to get an exhaustive list of all the categories provided in our 2,500 locaitons. To do this, we will extract the `categories` field from each location, and append the values to a list. Once all values have been appended, we will type cast the list to a set to remove duplicates. \n",
    "\n",
    "We will store the category list in a JSON file for future use."
   ]
  },
  {
   "cell_type": "code",
   "execution_count": 41,
   "metadata": {},
   "outputs": [],
   "source": [
    "categories = []\n",
    "for location in data:\n",
    "    loc_categories = [category['alias'] for category in location['categories']]\n",
    "    categories.extend(loc_categories)\n",
    "categories = list(set(categories))\n",
    "\n",
    "\n",
    "with open(\"../data/raw_categories.json\", \"w\", encoding=\"utf-8\") as f:\n",
    "    json.dump(categories, f, ensure_ascii=False, indent=4)"
   ]
  },
  {
   "cell_type": "markdown",
   "metadata": {},
   "source": [
    "## 3. Keyword List Generation\n",
    "We have used ChatGPT to convert our categories into keywords to use for classification. The keywords can be found in `../data/keywords.json`."
   ]
  },
  {
   "cell_type": "markdown",
   "metadata": {},
   "source": [
    "## 4. Prompt Engineering\n",
    "Now that we have our keywords set, we need to do some prompt engineering to create a GPT-3.5-Turbo prompt which associates a venue with a set of our keywords. To do this, there are a few considerations we must make:\n",
    "- Prompt must provide the list of keywords to the model\n",
    "- Model must accurately associate keywords with venues according to product needs\n",
    "- Want to process as many venues in one prompt as possible\n",
    "\n",
    "To provide the LLM with the list of keywords, we will simply provide them in the system prompt. For token efficiency, we may try to cram as many venues as possible into every prompt, so we limit the number of times we have to send a system prompt.\n",
    "\n",
    "In order to get accurate results without fine-tuning, we should take a few-shot approach, to do this, we will use ChatGPT to do ~20 locations, and we will then use these as an example for each prompt we send.\n",
    "\n",
    "Finally, we should try to jam as many tokens as possible into each prompt. We have 16k tokens to work with as a context window. We can use the examples to determine the optimal number of locations to use per prompt."
   ]
  },
  {
   "cell_type": "markdown",
   "metadata": {},
   "source": []
  },
  {
   "cell_type": "code",
   "execution_count": 55,
   "metadata": {},
   "outputs": [],
   "source": [
    "trimmed_data = []\n",
    "for datum in data:\n",
    "    trimmed_datum = {\n",
    "        \"id\": datum['id'],\n",
    "        \"name\": datum[\"name\"],\n",
    "        \"rating\": datum[\"rating\"],\n",
    "        \"categories\": [category[\"alias\"] for category in datum[\"categories\"]],\n",
    "    }\n",
    "    trimmed_data.append(trimmed_datum)\n",
    "\n",
    "with open(\"../data/trimmed_location_data.json\", \"w\", encoding=\"utf-8\") as f:\n",
    "    json.dump(trimmed_data, f, ensure_ascii=False, indent=4)"
   ]
  },
  {
   "cell_type": "code",
   "execution_count": 57,
   "metadata": {},
   "outputs": [],
   "source": [
    "SYSTEM_PROMPT = \"\"\"\n",
    "# Instructions for Extracting Keywords for Venue Analysis\n",
    "**Objective**: You will perform keyword extraction for a list of venues. Each venue will be\n",
    "represented by a unique ID, its name, a rating, and a list of categories. Your task is to associate \n",
    "each venue with relevant keywords based on its categories.\n",
    "\n",
    "## Materials Provided:\n",
    "\n",
    "- A JSON object of slugified keywords categorized under three archetypes: \"foodie\", \"party\", and \"adventure\". This will be provided to you.\n",
    "- A JSON list of venues, each containing an ID, name, rating, and a list of categories.\n",
    "\n",
    "## Slugified Keywords\n",
    "```\n",
    "{\n",
    "    \"foodie\": [\n",
    "        \"gourmet\", \"artisanal\", \"organic\", \"exotic-flavors\", \"farm-to-table\", \"culinary-adventure\", \"gastronomy\", \"comfort-food\",\n",
    "        \"street-food\", \"seafood-delights\", \"sweet-treats\", \"vegan-choices\", \"wine-lover\", \"coffee-culture\", \"cheese-aficionado\",\n",
    "        \"spice-enthusiast\", \"health-conscious-eating\", \"baking-passion\", \"fusion-cuisine\", \"food-markets\"\n",
    "    ],\n",
    "    \"party\": [\n",
    "        \"nightlife\", \"live-music\", \"dance-vibes\", \"social-gatherings\", \"festive-atmosphere\", \"dj-beats\", \"cocktail-culture\",\n",
    "        \"laugh-out-loud\", \"trendy-spots\", \"group-fun\", \"vibrant-scenes\", \"themed-parties\", \"chill-out\", \"exclusive-events\", \"happy-hours\",\n",
    "        \"sing-along\", \"glam-nights\", \"bar-hopping\", \"eclectic-mix\", \"celebrity-style\"\n",
    "    ],\n",
    "    \"adventure\": [\n",
    "        \"exploration\", \"outdoor-thrills\", \"nature-lover\", \"extreme-sports\",  \"scenic-beauty\", \"water-adventures\", \"trail-seeker\",  \"wildlife-encounters\",\n",
    "        \"eco-friendly\", \"adventure-sports\", \"fitness-challenge\", \"sky-high\", \"off-the-beaten-path\", \"cultural-immersion\", \"urban-exploration\",\n",
    "        \"mountain-escapes\", \"underwater-worlds\", \"road-trips\", \"star-gazing\", \"historical-discovery\"\n",
    "    ]\n",
    "}\n",
    "```\n",
    "\n",
    "## Steps\n",
    "\n",
    "1. Understand the Keywords:\n",
    "Familiarize yourself with the keywords under each category. This will help you understand the themes and ideas each keyword represents.\n",
    "\n",
    "2. Review the List of Venues:\n",
    "\n",
    "You will receive a JSON list of venues. Each venue will have an id, name, rating, and a list of categories.\n",
    "For example: \n",
    "```\n",
    "[\n",
    "    {\n",
    "        \"id\": \"unique-id-1\",\n",
    "        \"name\": \"Venue Name 1\",\n",
    "        \"rating\": 4.5,\n",
    "        \"categories\": [\"category1\", \"category2\"]\n",
    "    },\n",
    "    {\n",
    "        \"id\": \"unique-id-2\",\n",
    "        \"name\": \"Venue Name 2\",\n",
    "        \"rating\": 3.5,\n",
    "        \"categories\": [\"category3\", \"category4\"]\n",
    "    }\n",
    "    // more venues...\n",
    "]\n",
    "```\n",
    "\n",
    "3. Perform Keyword Extraction:\n",
    "\n",
    "For each venue, go through its list of categories. Match each category with the relevant keywords \n",
    "from the provided JSON object. Consider the themes and ideas the venue's categories represent and select \n",
    "appropriate keywords from the \"foodie\", \"party\", and \"adventure\" lists. It's important to use your judgment \n",
    "to best match the venue's categories to the keywords that represent its essence.\n",
    "\n",
    "4. Create the Output JSON Object:\n",
    "\n",
    "For each venue, create a JSON object containing its id and a list of extracted keywords.\n",
    "The output should be an array of these objects.\n",
    "Example format:\n",
    "```\n",
    "[\n",
    "    {\n",
    "        \"id\": \"unique-id-1\",\n",
    "        \"keywords\": [\"keyword1\", \"keyword2\"]\n",
    "    },\n",
    "    {\n",
    "        \"id\": \"unique-id-2\",\n",
    "        \"keywords\": [\"keyword3\", \"keyword4\"]\n",
    "    }\n",
    "    // more venues with keywords...\n",
    "]\n",
    "```\n",
    "\n",
    "Note: It's essential to interpret the categories creatively and contextually. The goal is to capture the \n",
    "essence of each venue in the keywords selected.\n",
    "\"\"\""
   ]
  },
  {
   "cell_type": "code",
   "execution_count": 85,
   "metadata": {},
   "outputs": [],
   "source": [
    "def load_messages():\n",
    "    with open(\"../data/example.json\", 'r', encoding='utf-8') as f:\n",
    "        example = json.load(f)\n",
    "    example_input = example['input']\n",
    "    example_output = example['output']\n",
    "\n",
    "    messages = [\n",
    "        {'role': 'system', 'content': SYSTEM_PROMPT},\n",
    "        {'role': 'user', 'content': json.dumps(example_input)},\n",
    "        {'role': 'assistant', 'content': json.dumps(example_output)},\n",
    "    ]\n",
    "    return messages\n",
    "\n",
    "def format_messages(start: int, stop: int):\n",
    "    input_values = trimmed_data[start:stop]\n",
    "    messages = load_messages()\n",
    "    messages.append({\n",
    "        'role': 'user',\n",
    "        'content': json.dumps(input_values)\n",
    "    })\n",
    "    return messages"
   ]
  },
  {
   "cell_type": "code",
   "execution_count": 92,
   "metadata": {},
   "outputs": [],
   "source": [
    "from openai import OpenAI\n",
    "\n",
    "client = OpenAI()\n",
    "def extract_keywords(start: int, stop: int):\n",
    "    completion = client.chat.completions.create(\n",
    "        model=\"gpt-3.5-turbo-1106\",\n",
    "        messages=format_messages(start, stop),\n",
    "        response_format={\"type\": \"json_object\"}\n",
    "    )\n",
    "    data = json.loads(completion.choices[0].message.content)\n",
    "    return data['venues']\n",
    "\n"
   ]
  },
  {
   "cell_type": "code",
   "execution_count": 107,
   "metadata": {},
   "outputs": [
    {
     "name": "stderr",
     "output_type": "stream",
     "text": [
      "  1%|          | 1/84 [00:18<25:45, 18.62s/it]"
     ]
    },
    {
     "name": "stdout",
     "output_type": "stream",
     "text": [
      "CompletionUsage(completion_tokens=1130, prompt_tokens=3551, total_tokens=4681)\n",
      "Extracted keywords for 30 venues. Total Processed: 30\n"
     ]
    },
    {
     "name": "stderr",
     "output_type": "stream",
     "text": [
      "  2%|▏         | 2/84 [00:31<20:36, 15.07s/it]"
     ]
    },
    {
     "name": "stdout",
     "output_type": "stream",
     "text": [
      "CompletionUsage(completion_tokens=964, prompt_tokens=3467, total_tokens=4431)\n",
      "Extracted keywords for 30 venues. Total Processed: 60\n"
     ]
    },
    {
     "name": "stderr",
     "output_type": "stream",
     "text": [
      "  4%|▎         | 3/84 [00:47<20:50, 15.44s/it]"
     ]
    },
    {
     "name": "stdout",
     "output_type": "stream",
     "text": [
      "CompletionUsage(completion_tokens=978, prompt_tokens=3501, total_tokens=4479)\n",
      "Extracted keywords for 30 venues. Total Processed: 90\n"
     ]
    },
    {
     "name": "stderr",
     "output_type": "stream",
     "text": [
      "  5%|▍         | 4/84 [01:07<22:58, 17.23s/it]"
     ]
    },
    {
     "name": "stdout",
     "output_type": "stream",
     "text": [
      "CompletionUsage(completion_tokens=1122, prompt_tokens=3571, total_tokens=4693)\n",
      "Extracted keywords for 30 venues. Total Processed: 120\n"
     ]
    },
    {
     "name": "stderr",
     "output_type": "stream",
     "text": [
      "  6%|▌         | 5/84 [01:27<24:25, 18.55s/it]"
     ]
    },
    {
     "name": "stdout",
     "output_type": "stream",
     "text": [
      "CompletionUsage(completion_tokens=1087, prompt_tokens=3549, total_tokens=4636)\n",
      "Extracted keywords for 30 venues. Total Processed: 150\n"
     ]
    },
    {
     "name": "stderr",
     "output_type": "stream",
     "text": [
      "  7%|▋         | 6/84 [01:45<23:32, 18.11s/it]"
     ]
    },
    {
     "name": "stdout",
     "output_type": "stream",
     "text": [
      "CompletionUsage(completion_tokens=1044, prompt_tokens=3501, total_tokens=4545)\n",
      "Extracted keywords for 30 venues. Total Processed: 180\n"
     ]
    },
    {
     "name": "stderr",
     "output_type": "stream",
     "text": [
      "  8%|▊         | 7/84 [02:03<23:08, 18.03s/it]"
     ]
    },
    {
     "name": "stdout",
     "output_type": "stream",
     "text": [
      "CompletionUsage(completion_tokens=1046, prompt_tokens=3530, total_tokens=4576)\n",
      "Extracted keywords for 30 venues. Total Processed: 210\n"
     ]
    },
    {
     "name": "stderr",
     "output_type": "stream",
     "text": [
      " 10%|▉         | 8/84 [02:21<23:02, 18.19s/it]"
     ]
    },
    {
     "name": "stdout",
     "output_type": "stream",
     "text": [
      "CompletionUsage(completion_tokens=1102, prompt_tokens=3555, total_tokens=4657)\n",
      "Extracted keywords for 31 venues. Total Processed: 241\n"
     ]
    },
    {
     "name": "stderr",
     "output_type": "stream",
     "text": [
      " 11%|█         | 9/84 [02:36<21:35, 17.27s/it]"
     ]
    },
    {
     "name": "stdout",
     "output_type": "stream",
     "text": [
      "CompletionUsage(completion_tokens=913, prompt_tokens=3518, total_tokens=4431)\n",
      "Extracted keywords for 27 venues. Total Processed: 268\n"
     ]
    },
    {
     "name": "stderr",
     "output_type": "stream",
     "text": [
      " 12%|█▏        | 10/84 [02:51<20:18, 16.46s/it]"
     ]
    },
    {
     "name": "stdout",
     "output_type": "stream",
     "text": [
      "CompletionUsage(completion_tokens=1012, prompt_tokens=3482, total_tokens=4494)\n",
      "Extracted keywords for 30 venues. Total Processed: 298\n"
     ]
    },
    {
     "name": "stderr",
     "output_type": "stream",
     "text": [
      " 13%|█▎        | 11/84 [03:09<20:32, 16.88s/it]"
     ]
    },
    {
     "name": "stdout",
     "output_type": "stream",
     "text": [
      "CompletionUsage(completion_tokens=970, prompt_tokens=3505, total_tokens=4475)\n",
      "Extracted keywords for 30 venues. Total Processed: 328\n"
     ]
    },
    {
     "name": "stderr",
     "output_type": "stream",
     "text": [
      " 14%|█▍        | 12/84 [03:24<19:30, 16.26s/it]"
     ]
    },
    {
     "name": "stdout",
     "output_type": "stream",
     "text": [
      "CompletionUsage(completion_tokens=1049, prompt_tokens=3529, total_tokens=4578)\n",
      "Extracted keywords for 30 venues. Total Processed: 358\n"
     ]
    },
    {
     "name": "stderr",
     "output_type": "stream",
     "text": [
      " 15%|█▌        | 13/84 [03:41<19:41, 16.64s/it]"
     ]
    },
    {
     "name": "stdout",
     "output_type": "stream",
     "text": [
      "CompletionUsage(completion_tokens=985, prompt_tokens=3486, total_tokens=4471)\n",
      "Extracted keywords for 30 venues. Total Processed: 388\n"
     ]
    },
    {
     "name": "stderr",
     "output_type": "stream",
     "text": [
      " 17%|█▋        | 14/84 [03:58<19:24, 16.63s/it]"
     ]
    },
    {
     "name": "stdout",
     "output_type": "stream",
     "text": [
      "CompletionUsage(completion_tokens=904, prompt_tokens=3487, total_tokens=4391)\n",
      "Extracted keywords for 27 venues. Total Processed: 415\n"
     ]
    },
    {
     "name": "stderr",
     "output_type": "stream",
     "text": [
      " 18%|█▊        | 15/84 [04:13<18:27, 16.05s/it]"
     ]
    },
    {
     "name": "stdout",
     "output_type": "stream",
     "text": [
      "CompletionUsage(completion_tokens=1055, prompt_tokens=3517, total_tokens=4572)\n",
      "Extracted keywords for 30 venues. Total Processed: 445\n"
     ]
    },
    {
     "name": "stderr",
     "output_type": "stream",
     "text": [
      " 19%|█▉        | 16/84 [04:28<18:01, 15.91s/it]"
     ]
    },
    {
     "name": "stdout",
     "output_type": "stream",
     "text": [
      "CompletionUsage(completion_tokens=1073, prompt_tokens=3543, total_tokens=4616)\n",
      "Extracted keywords for 30 venues. Total Processed: 475\n"
     ]
    },
    {
     "name": "stderr",
     "output_type": "stream",
     "text": [
      " 20%|██        | 17/84 [04:49<19:20, 17.33s/it]"
     ]
    },
    {
     "name": "stdout",
     "output_type": "stream",
     "text": [
      "CompletionUsage(completion_tokens=1119, prompt_tokens=3561, total_tokens=4680)\n",
      "Extracted keywords for 31 venues. Total Processed: 506\n"
     ]
    },
    {
     "name": "stderr",
     "output_type": "stream",
     "text": [
      " 21%|██▏       | 18/84 [05:08<19:34, 17.80s/it]"
     ]
    },
    {
     "name": "stdout",
     "output_type": "stream",
     "text": [
      "CompletionUsage(completion_tokens=1036, prompt_tokens=3582, total_tokens=4618)\n",
      "Extracted keywords for 30 venues. Total Processed: 536\n"
     ]
    },
    {
     "name": "stderr",
     "output_type": "stream",
     "text": [
      " 23%|██▎       | 19/84 [05:27<19:51, 18.33s/it]"
     ]
    },
    {
     "name": "stdout",
     "output_type": "stream",
     "text": [
      "CompletionUsage(completion_tokens=1049, prompt_tokens=3568, total_tokens=4617)\n",
      "Extracted keywords for 30 venues. Total Processed: 566\n"
     ]
    },
    {
     "name": "stderr",
     "output_type": "stream",
     "text": [
      " 24%|██▍       | 20/84 [05:42<18:20, 17.19s/it]"
     ]
    },
    {
     "name": "stdout",
     "output_type": "stream",
     "text": [
      "CompletionUsage(completion_tokens=1029, prompt_tokens=3563, total_tokens=4592)\n",
      "Extracted keywords for 30 venues. Total Processed: 596\n"
     ]
    },
    {
     "name": "stderr",
     "output_type": "stream",
     "text": [
      " 25%|██▌       | 21/84 [05:58<17:43, 16.89s/it]"
     ]
    },
    {
     "name": "stdout",
     "output_type": "stream",
     "text": [
      "CompletionUsage(completion_tokens=1039, prompt_tokens=3521, total_tokens=4560)\n",
      "Extracted keywords for 30 venues. Total Processed: 626\n"
     ]
    },
    {
     "name": "stderr",
     "output_type": "stream",
     "text": [
      " 26%|██▌       | 22/84 [06:19<18:52, 18.27s/it]"
     ]
    },
    {
     "name": "stdout",
     "output_type": "stream",
     "text": [
      "CompletionUsage(completion_tokens=1086, prompt_tokens=3550, total_tokens=4636)\n",
      "Extracted keywords for 30 venues. Total Processed: 656\n"
     ]
    },
    {
     "name": "stderr",
     "output_type": "stream",
     "text": [
      " 27%|██▋       | 23/84 [06:36<18:07, 17.82s/it]"
     ]
    },
    {
     "name": "stdout",
     "output_type": "stream",
     "text": [
      "CompletionUsage(completion_tokens=914, prompt_tokens=3575, total_tokens=4489)\n",
      "Extracted keywords for 27 venues. Total Processed: 683\n"
     ]
    },
    {
     "name": "stderr",
     "output_type": "stream",
     "text": [
      " 29%|██▊       | 24/84 [06:55<18:04, 18.07s/it]"
     ]
    },
    {
     "name": "stdout",
     "output_type": "stream",
     "text": [
      "CompletionUsage(completion_tokens=1044, prompt_tokens=3564, total_tokens=4608)\n",
      "Extracted keywords for 30 venues. Total Processed: 713\n"
     ]
    },
    {
     "name": "stderr",
     "output_type": "stream",
     "text": [
      " 30%|██▉       | 25/84 [07:13<17:47, 18.09s/it]"
     ]
    },
    {
     "name": "stdout",
     "output_type": "stream",
     "text": [
      "CompletionUsage(completion_tokens=966, prompt_tokens=3516, total_tokens=4482)\n",
      "Extracted keywords for 30 venues. Total Processed: 743\n"
     ]
    },
    {
     "name": "stderr",
     "output_type": "stream",
     "text": [
      " 31%|███       | 26/84 [07:33<18:08, 18.77s/it]"
     ]
    },
    {
     "name": "stdout",
     "output_type": "stream",
     "text": [
      "CompletionUsage(completion_tokens=1106, prompt_tokens=3555, total_tokens=4661)\n",
      "Extracted keywords for 30 venues. Total Processed: 773\n"
     ]
    },
    {
     "name": "stderr",
     "output_type": "stream",
     "text": [
      " 32%|███▏      | 27/84 [07:53<17:58, 18.91s/it]"
     ]
    },
    {
     "name": "stdout",
     "output_type": "stream",
     "text": [
      "CompletionUsage(completion_tokens=1020, prompt_tokens=3554, total_tokens=4574)\n",
      "Extracted keywords for 29 venues. Total Processed: 802\n"
     ]
    },
    {
     "name": "stderr",
     "output_type": "stream",
     "text": [
      " 33%|███▎      | 28/84 [08:09<17:04, 18.30s/it]"
     ]
    },
    {
     "name": "stdout",
     "output_type": "stream",
     "text": [
      "CompletionUsage(completion_tokens=998, prompt_tokens=3533, total_tokens=4531)\n",
      "Extracted keywords for 29 venues. Total Processed: 831\n"
     ]
    },
    {
     "name": "stderr",
     "output_type": "stream",
     "text": [
      " 35%|███▍      | 29/84 [08:24<15:48, 17.24s/it]"
     ]
    },
    {
     "name": "stdout",
     "output_type": "stream",
     "text": [
      "CompletionUsage(completion_tokens=1015, prompt_tokens=3554, total_tokens=4569)\n",
      "Extracted keywords for 29 venues. Total Processed: 860\n"
     ]
    },
    {
     "name": "stderr",
     "output_type": "stream",
     "text": [
      " 36%|███▌      | 30/84 [08:39<14:59, 16.65s/it]"
     ]
    },
    {
     "name": "stdout",
     "output_type": "stream",
     "text": [
      "CompletionUsage(completion_tokens=1052, prompt_tokens=3550, total_tokens=4602)\n",
      "Extracted keywords for 30 venues. Total Processed: 890\n"
     ]
    },
    {
     "name": "stderr",
     "output_type": "stream",
     "text": [
      " 37%|███▋      | 31/84 [08:54<14:07, 15.98s/it]"
     ]
    },
    {
     "name": "stdout",
     "output_type": "stream",
     "text": [
      "CompletionUsage(completion_tokens=943, prompt_tokens=3559, total_tokens=4502)\n",
      "Extracted keywords for 28 venues. Total Processed: 918\n"
     ]
    },
    {
     "name": "stderr",
     "output_type": "stream",
     "text": [
      " 38%|███▊      | 32/84 [09:11<14:10, 16.35s/it]"
     ]
    },
    {
     "name": "stdout",
     "output_type": "stream",
     "text": [
      "CompletionUsage(completion_tokens=1129, prompt_tokens=3612, total_tokens=4741)\n",
      "Extracted keywords for 30 venues. Total Processed: 948\n"
     ]
    },
    {
     "name": "stderr",
     "output_type": "stream",
     "text": [
      " 39%|███▉      | 33/84 [09:28<14:03, 16.54s/it]"
     ]
    },
    {
     "name": "stdout",
     "output_type": "stream",
     "text": [
      "CompletionUsage(completion_tokens=1020, prompt_tokens=3543, total_tokens=4563)\n",
      "Extracted keywords for 29 venues. Total Processed: 977\n"
     ]
    },
    {
     "name": "stderr",
     "output_type": "stream",
     "text": [
      " 40%|████      | 34/84 [09:46<14:06, 16.93s/it]"
     ]
    },
    {
     "name": "stdout",
     "output_type": "stream",
     "text": [
      "CompletionUsage(completion_tokens=1080, prompt_tokens=3554, total_tokens=4634)\n",
      "Extracted keywords for 30 venues. Total Processed: 1007\n"
     ]
    },
    {
     "name": "stderr",
     "output_type": "stream",
     "text": [
      " 42%|████▏     | 35/84 [10:00<13:03, 16.00s/it]"
     ]
    },
    {
     "name": "stdout",
     "output_type": "stream",
     "text": [
      "CompletionUsage(completion_tokens=883, prompt_tokens=3593, total_tokens=4476)\n",
      "Extracted keywords for 24 venues. Total Processed: 1031\n"
     ]
    },
    {
     "name": "stderr",
     "output_type": "stream",
     "text": [
      " 43%|████▎     | 36/84 [10:19<13:31, 16.91s/it]"
     ]
    },
    {
     "name": "stdout",
     "output_type": "stream",
     "text": [
      "CompletionUsage(completion_tokens=1083, prompt_tokens=3560, total_tokens=4643)\n",
      "Extracted keywords for 30 venues. Total Processed: 1061\n"
     ]
    },
    {
     "name": "stderr",
     "output_type": "stream",
     "text": [
      " 44%|████▍     | 37/84 [10:34<12:49, 16.36s/it]"
     ]
    },
    {
     "name": "stdout",
     "output_type": "stream",
     "text": [
      "CompletionUsage(completion_tokens=1115, prompt_tokens=3554, total_tokens=4669)\n",
      "Extracted keywords for 30 venues. Total Processed: 1091\n"
     ]
    },
    {
     "name": "stderr",
     "output_type": "stream",
     "text": [
      " 45%|████▌     | 38/84 [10:53<13:05, 17.07s/it]"
     ]
    },
    {
     "name": "stdout",
     "output_type": "stream",
     "text": [
      "CompletionUsage(completion_tokens=1086, prompt_tokens=3572, total_tokens=4658)\n",
      "Extracted keywords for 30 venues. Total Processed: 1121\n"
     ]
    },
    {
     "name": "stderr",
     "output_type": "stream",
     "text": [
      " 46%|████▋     | 39/84 [11:10<12:50, 17.12s/it]"
     ]
    },
    {
     "name": "stdout",
     "output_type": "stream",
     "text": [
      "CompletionUsage(completion_tokens=1059, prompt_tokens=3577, total_tokens=4636)\n",
      "Extracted keywords for 28 venues. Total Processed: 1149\n"
     ]
    },
    {
     "name": "stderr",
     "output_type": "stream",
     "text": [
      " 48%|████▊     | 40/84 [11:29<13:00, 17.74s/it]"
     ]
    },
    {
     "name": "stdout",
     "output_type": "stream",
     "text": [
      "CompletionUsage(completion_tokens=1011, prompt_tokens=3600, total_tokens=4611)\n",
      "Extracted keywords for 30 venues. Total Processed: 1179\n"
     ]
    },
    {
     "name": "stderr",
     "output_type": "stream",
     "text": [
      " 49%|████▉     | 41/84 [11:47<12:49, 17.89s/it]"
     ]
    },
    {
     "name": "stdout",
     "output_type": "stream",
     "text": [
      "CompletionUsage(completion_tokens=1035, prompt_tokens=3594, total_tokens=4629)\n",
      "Extracted keywords for 30 venues. Total Processed: 1209\n"
     ]
    },
    {
     "name": "stderr",
     "output_type": "stream",
     "text": [
      " 50%|█████     | 42/84 [12:02<11:55, 17.04s/it]"
     ]
    },
    {
     "name": "stdout",
     "output_type": "stream",
     "text": [
      "CompletionUsage(completion_tokens=1003, prompt_tokens=3581, total_tokens=4584)\n",
      "Extracted keywords for 29 venues. Total Processed: 1238\n"
     ]
    },
    {
     "name": "stderr",
     "output_type": "stream",
     "text": [
      " 51%|█████     | 43/84 [12:20<11:51, 17.35s/it]"
     ]
    },
    {
     "name": "stdout",
     "output_type": "stream",
     "text": [
      "CompletionUsage(completion_tokens=1038, prompt_tokens=3562, total_tokens=4600)\n",
      "Extracted keywords for 30 venues. Total Processed: 1268\n"
     ]
    },
    {
     "name": "stderr",
     "output_type": "stream",
     "text": [
      " 52%|█████▏    | 44/84 [12:38<11:39, 17.48s/it]"
     ]
    },
    {
     "name": "stdout",
     "output_type": "stream",
     "text": [
      "CompletionUsage(completion_tokens=1008, prompt_tokens=3559, total_tokens=4567)\n",
      "Extracted keywords for 30 venues. Total Processed: 1298\n"
     ]
    },
    {
     "name": "stderr",
     "output_type": "stream",
     "text": [
      " 54%|█████▎    | 45/84 [12:56<11:26, 17.60s/it]"
     ]
    },
    {
     "name": "stdout",
     "output_type": "stream",
     "text": [
      "CompletionUsage(completion_tokens=1053, prompt_tokens=3550, total_tokens=4603)\n",
      "Extracted keywords for 30 venues. Total Processed: 1328\n"
     ]
    },
    {
     "name": "stderr",
     "output_type": "stream",
     "text": [
      " 55%|█████▍    | 46/84 [13:11<10:41, 16.89s/it]"
     ]
    },
    {
     "name": "stdout",
     "output_type": "stream",
     "text": [
      "CompletionUsage(completion_tokens=1090, prompt_tokens=3518, total_tokens=4608)\n",
      "Extracted keywords for 30 venues. Total Processed: 1358\n"
     ]
    },
    {
     "name": "stderr",
     "output_type": "stream",
     "text": [
      " 56%|█████▌    | 47/84 [13:28<10:19, 16.74s/it]"
     ]
    },
    {
     "name": "stdout",
     "output_type": "stream",
     "text": [
      "CompletionUsage(completion_tokens=1012, prompt_tokens=3600, total_tokens=4612)\n",
      "Extracted keywords for 27 venues. Total Processed: 1385\n"
     ]
    },
    {
     "name": "stderr",
     "output_type": "stream",
     "text": [
      " 57%|█████▋    | 48/84 [13:44<09:55, 16.55s/it]"
     ]
    },
    {
     "name": "stdout",
     "output_type": "stream",
     "text": [
      "CompletionUsage(completion_tokens=1025, prompt_tokens=3564, total_tokens=4589)\n",
      "Extracted keywords for 30 venues. Total Processed: 1415\n"
     ]
    },
    {
     "name": "stderr",
     "output_type": "stream",
     "text": [
      " 58%|█████▊    | 49/84 [14:00<09:33, 16.38s/it]"
     ]
    },
    {
     "name": "stdout",
     "output_type": "stream",
     "text": [
      "CompletionUsage(completion_tokens=1052, prompt_tokens=3595, total_tokens=4647)\n",
      "Extracted keywords for 28 venues. Total Processed: 1443\n"
     ]
    },
    {
     "name": "stderr",
     "output_type": "stream",
     "text": [
      " 60%|█████▉    | 50/84 [14:19<09:45, 17.23s/it]"
     ]
    },
    {
     "name": "stdout",
     "output_type": "stream",
     "text": [
      "CompletionUsage(completion_tokens=1119, prompt_tokens=3588, total_tokens=4707)\n",
      "Extracted keywords for 30 venues. Total Processed: 1473\n"
     ]
    },
    {
     "name": "stderr",
     "output_type": "stream",
     "text": [
      " 61%|██████    | 51/84 [14:37<09:32, 17.35s/it]"
     ]
    },
    {
     "name": "stdout",
     "output_type": "stream",
     "text": [
      "CompletionUsage(completion_tokens=1069, prompt_tokens=3553, total_tokens=4622)\n",
      "Extracted keywords for 30 venues. Total Processed: 1503\n"
     ]
    },
    {
     "name": "stderr",
     "output_type": "stream",
     "text": [
      " 62%|██████▏   | 52/84 [14:52<09:01, 16.91s/it]"
     ]
    },
    {
     "name": "stdout",
     "output_type": "stream",
     "text": [
      "CompletionUsage(completion_tokens=1017, prompt_tokens=3520, total_tokens=4537)\n",
      "Extracted keywords for 30 venues. Total Processed: 1533\n"
     ]
    },
    {
     "name": "stderr",
     "output_type": "stream",
     "text": [
      " 63%|██████▎   | 53/84 [15:07<08:24, 16.28s/it]"
     ]
    },
    {
     "name": "stdout",
     "output_type": "stream",
     "text": [
      "CompletionUsage(completion_tokens=1053, prompt_tokens=3572, total_tokens=4625)\n",
      "Extracted keywords for 30 venues. Total Processed: 1563\n"
     ]
    },
    {
     "name": "stderr",
     "output_type": "stream",
     "text": [
      " 64%|██████▍   | 54/84 [15:23<08:05, 16.17s/it]"
     ]
    },
    {
     "name": "stdout",
     "output_type": "stream",
     "text": [
      "CompletionUsage(completion_tokens=1023, prompt_tokens=3569, total_tokens=4592)\n",
      "Extracted keywords for 27 venues. Total Processed: 1590\n"
     ]
    },
    {
     "name": "stderr",
     "output_type": "stream",
     "text": [
      " 65%|██████▌   | 55/84 [15:39<07:43, 15.99s/it]"
     ]
    },
    {
     "name": "stdout",
     "output_type": "stream",
     "text": [
      "CompletionUsage(completion_tokens=1059, prompt_tokens=3533, total_tokens=4592)\n",
      "Extracted keywords for 30 venues. Total Processed: 1620\n"
     ]
    },
    {
     "name": "stderr",
     "output_type": "stream",
     "text": [
      " 67%|██████▋   | 56/84 [15:56<07:42, 16.50s/it]"
     ]
    },
    {
     "name": "stdout",
     "output_type": "stream",
     "text": [
      "CompletionUsage(completion_tokens=1011, prompt_tokens=3529, total_tokens=4540)\n",
      "Extracted keywords for 30 venues. Total Processed: 1650\n"
     ]
    },
    {
     "name": "stderr",
     "output_type": "stream",
     "text": [
      " 68%|██████▊   | 57/84 [16:13<07:25, 16.51s/it]"
     ]
    },
    {
     "name": "stdout",
     "output_type": "stream",
     "text": [
      "CompletionUsage(completion_tokens=1030, prompt_tokens=3569, total_tokens=4599)\n",
      "Extracted keywords for 30 venues. Total Processed: 1680\n"
     ]
    },
    {
     "name": "stderr",
     "output_type": "stream",
     "text": [
      " 69%|██████▉   | 58/84 [16:30<07:12, 16.65s/it]"
     ]
    },
    {
     "name": "stdout",
     "output_type": "stream",
     "text": [
      "CompletionUsage(completion_tokens=1029, prompt_tokens=3538, total_tokens=4567)\n",
      "Extracted keywords for 30 venues. Total Processed: 1710\n"
     ]
    },
    {
     "name": "stderr",
     "output_type": "stream",
     "text": [
      " 70%|███████   | 59/84 [16:49<07:13, 17.36s/it]"
     ]
    },
    {
     "name": "stdout",
     "output_type": "stream",
     "text": [
      "CompletionUsage(completion_tokens=1075, prompt_tokens=3546, total_tokens=4621)\n",
      "Extracted keywords for 30 venues. Total Processed: 1740\n"
     ]
    },
    {
     "name": "stderr",
     "output_type": "stream",
     "text": [
      " 71%|███████▏  | 60/84 [17:06<06:51, 17.16s/it]"
     ]
    },
    {
     "name": "stdout",
     "output_type": "stream",
     "text": [
      "CompletionUsage(completion_tokens=1012, prompt_tokens=3561, total_tokens=4573)\n",
      "Extracted keywords for 30 venues. Total Processed: 1770\n"
     ]
    },
    {
     "name": "stderr",
     "output_type": "stream",
     "text": [
      " 73%|███████▎  | 61/84 [17:23<06:32, 17.09s/it]"
     ]
    },
    {
     "name": "stdout",
     "output_type": "stream",
     "text": [
      "CompletionUsage(completion_tokens=1069, prompt_tokens=3529, total_tokens=4598)\n",
      "Extracted keywords for 30 venues. Total Processed: 1800\n"
     ]
    },
    {
     "name": "stderr",
     "output_type": "stream",
     "text": [
      " 74%|███████▍  | 62/84 [17:40<06:16, 17.11s/it]"
     ]
    },
    {
     "name": "stdout",
     "output_type": "stream",
     "text": [
      "CompletionUsage(completion_tokens=991, prompt_tokens=3508, total_tokens=4499)\n",
      "Extracted keywords for 30 venues. Total Processed: 1830\n"
     ]
    },
    {
     "name": "stderr",
     "output_type": "stream",
     "text": [
      " 75%|███████▌  | 63/84 [18:00<06:19, 18.09s/it]"
     ]
    },
    {
     "name": "stdout",
     "output_type": "stream",
     "text": [
      "CompletionUsage(completion_tokens=1134, prompt_tokens=3558, total_tokens=4692)\n",
      "Extracted keywords for 30 venues. Total Processed: 1860\n"
     ]
    },
    {
     "name": "stderr",
     "output_type": "stream",
     "text": [
      " 76%|███████▌  | 64/84 [18:23<06:29, 19.45s/it]"
     ]
    },
    {
     "name": "stdout",
     "output_type": "stream",
     "text": [
      "CompletionUsage(completion_tokens=1171, prompt_tokens=3607, total_tokens=4778)\n",
      "Extracted keywords for 30 venues. Total Processed: 1890\n"
     ]
    },
    {
     "name": "stderr",
     "output_type": "stream",
     "text": [
      " 77%|███████▋  | 65/84 [18:38<05:45, 18.17s/it]"
     ]
    },
    {
     "name": "stdout",
     "output_type": "stream",
     "text": [
      "CompletionUsage(completion_tokens=969, prompt_tokens=3531, total_tokens=4500)\n",
      "Extracted keywords for 29 venues. Total Processed: 1919\n"
     ]
    },
    {
     "name": "stderr",
     "output_type": "stream",
     "text": [
      " 79%|███████▊  | 66/84 [18:57<05:29, 18.31s/it]"
     ]
    },
    {
     "name": "stdout",
     "output_type": "stream",
     "text": [
      "CompletionUsage(completion_tokens=1180, prompt_tokens=3580, total_tokens=4760)\n",
      "Extracted keywords for 30 venues. Total Processed: 1949\n"
     ]
    },
    {
     "name": "stderr",
     "output_type": "stream",
     "text": [
      " 80%|███████▉  | 67/84 [19:15<05:11, 18.30s/it]"
     ]
    },
    {
     "name": "stdout",
     "output_type": "stream",
     "text": [
      "CompletionUsage(completion_tokens=1061, prompt_tokens=3549, total_tokens=4610)\n",
      "Extracted keywords for 30 venues. Total Processed: 1979\n"
     ]
    },
    {
     "name": "stderr",
     "output_type": "stream",
     "text": [
      " 81%|████████  | 68/84 [19:28<04:27, 16.69s/it]"
     ]
    },
    {
     "name": "stdout",
     "output_type": "stream",
     "text": [
      "CompletionUsage(completion_tokens=1022, prompt_tokens=3588, total_tokens=4610)\n",
      "Extracted keywords for 30 venues. Total Processed: 2009\n"
     ]
    },
    {
     "name": "stderr",
     "output_type": "stream",
     "text": [
      " 82%|████████▏ | 69/84 [19:45<04:11, 16.75s/it]"
     ]
    },
    {
     "name": "stdout",
     "output_type": "stream",
     "text": [
      "CompletionUsage(completion_tokens=1050, prompt_tokens=3565, total_tokens=4615)\n",
      "Extracted keywords for 30 venues. Total Processed: 2039\n"
     ]
    },
    {
     "name": "stderr",
     "output_type": "stream",
     "text": [
      " 83%|████████▎ | 70/84 [20:00<03:49, 16.42s/it]"
     ]
    },
    {
     "name": "stdout",
     "output_type": "stream",
     "text": [
      "CompletionUsage(completion_tokens=932, prompt_tokens=3559, total_tokens=4491)\n",
      "Extracted keywords for 27 venues. Total Processed: 2066\n"
     ]
    },
    {
     "name": "stderr",
     "output_type": "stream",
     "text": [
      " 85%|████████▍ | 71/84 [20:16<03:28, 16.05s/it]"
     ]
    },
    {
     "name": "stdout",
     "output_type": "stream",
     "text": [
      "CompletionUsage(completion_tokens=1025, prompt_tokens=3591, total_tokens=4616)\n",
      "Extracted keywords for 29 venues. Total Processed: 2095\n"
     ]
    },
    {
     "name": "stderr",
     "output_type": "stream",
     "text": [
      " 86%|████████▌ | 72/84 [20:32<03:14, 16.18s/it]"
     ]
    },
    {
     "name": "stdout",
     "output_type": "stream",
     "text": [
      "CompletionUsage(completion_tokens=1077, prompt_tokens=3555, total_tokens=4632)\n",
      "Extracted keywords for 30 venues. Total Processed: 2125\n"
     ]
    },
    {
     "name": "stderr",
     "output_type": "stream",
     "text": [
      " 87%|████████▋ | 73/84 [20:48<02:56, 16.02s/it]"
     ]
    },
    {
     "name": "stdout",
     "output_type": "stream",
     "text": [
      "CompletionUsage(completion_tokens=1038, prompt_tokens=3522, total_tokens=4560)\n",
      "Extracted keywords for 29 venues. Total Processed: 2154\n"
     ]
    },
    {
     "name": "stderr",
     "output_type": "stream",
     "text": [
      " 88%|████████▊ | 74/84 [21:03<02:39, 15.96s/it]"
     ]
    },
    {
     "name": "stdout",
     "output_type": "stream",
     "text": [
      "CompletionUsage(completion_tokens=1036, prompt_tokens=3534, total_tokens=4570)\n",
      "Extracted keywords for 30 venues. Total Processed: 2184\n"
     ]
    },
    {
     "name": "stderr",
     "output_type": "stream",
     "text": [
      " 89%|████████▉ | 75/84 [21:21<02:26, 16.28s/it]"
     ]
    },
    {
     "name": "stdout",
     "output_type": "stream",
     "text": [
      "CompletionUsage(completion_tokens=1076, prompt_tokens=3538, total_tokens=4614)\n",
      "Extracted keywords for 30 venues. Total Processed: 2214\n"
     ]
    },
    {
     "name": "stderr",
     "output_type": "stream",
     "text": [
      " 90%|█████████ | 76/84 [21:36<02:09, 16.16s/it]"
     ]
    },
    {
     "name": "stdout",
     "output_type": "stream",
     "text": [
      "CompletionUsage(completion_tokens=1024, prompt_tokens=3550, total_tokens=4574)\n",
      "Extracted keywords for 30 venues. Total Processed: 2244\n"
     ]
    },
    {
     "name": "stderr",
     "output_type": "stream",
     "text": [
      " 92%|█████████▏| 77/84 [21:51<01:48, 15.56s/it]"
     ]
    },
    {
     "name": "stdout",
     "output_type": "stream",
     "text": [
      "CompletionUsage(completion_tokens=978, prompt_tokens=3477, total_tokens=4455)\n",
      "Extracted keywords for 30 venues. Total Processed: 2274\n"
     ]
    },
    {
     "name": "stderr",
     "output_type": "stream",
     "text": [
      " 93%|█████████▎| 78/84 [22:07<01:35, 15.90s/it]"
     ]
    },
    {
     "name": "stdout",
     "output_type": "stream",
     "text": [
      "CompletionUsage(completion_tokens=1052, prompt_tokens=3595, total_tokens=4647)\n",
      "Extracted keywords for 29 venues. Total Processed: 2303\n"
     ]
    },
    {
     "name": "stderr",
     "output_type": "stream",
     "text": [
      " 94%|█████████▍| 79/84 [22:24<01:20, 16.16s/it]"
     ]
    },
    {
     "name": "stdout",
     "output_type": "stream",
     "text": [
      "CompletionUsage(completion_tokens=1068, prompt_tokens=3582, total_tokens=4650)\n",
      "Extracted keywords for 30 venues. Total Processed: 2333\n"
     ]
    },
    {
     "name": "stderr",
     "output_type": "stream",
     "text": [
      " 95%|█████████▌| 80/84 [22:41<01:05, 16.36s/it]"
     ]
    },
    {
     "name": "stdout",
     "output_type": "stream",
     "text": [
      "CompletionUsage(completion_tokens=1136, prompt_tokens=3592, total_tokens=4728)\n",
      "Extracted keywords for 30 venues. Total Processed: 2363\n"
     ]
    },
    {
     "name": "stderr",
     "output_type": "stream",
     "text": [
      " 96%|█████████▋| 81/84 [22:52<00:44, 14.81s/it]"
     ]
    },
    {
     "name": "stdout",
     "output_type": "stream",
     "text": [
      "CompletionUsage(completion_tokens=835, prompt_tokens=3524, total_tokens=4359)\n",
      "Extracted keywords for 25 venues. Total Processed: 2388\n"
     ]
    },
    {
     "name": "stderr",
     "output_type": "stream",
     "text": [
      " 98%|█████████▊| 82/84 [23:10<00:31, 15.67s/it]"
     ]
    },
    {
     "name": "stdout",
     "output_type": "stream",
     "text": [
      "CompletionUsage(completion_tokens=1030, prompt_tokens=3566, total_tokens=4596)\n",
      "Extracted keywords for 30 venues. Total Processed: 2418\n"
     ]
    },
    {
     "name": "stderr",
     "output_type": "stream",
     "text": [
      " 99%|█████████▉| 83/84 [23:23<00:14, 15.00s/it]"
     ]
    },
    {
     "name": "stdout",
     "output_type": "stream",
     "text": [
      "CompletionUsage(completion_tokens=978, prompt_tokens=3504, total_tokens=4482)\n",
      "Extracted keywords for 30 venues. Total Processed: 2448\n"
     ]
    },
    {
     "name": "stderr",
     "output_type": "stream",
     "text": [
      "100%|██████████| 84/84 [23:31<00:00, 16.80s/it]"
     ]
    },
    {
     "name": "stdout",
     "output_type": "stream",
     "text": [
      "CompletionUsage(completion_tokens=362, prompt_tokens=2506, total_tokens=2868)\n",
      "Extracted keywords for 10 venues. Total Processed: 2458\n"
     ]
    },
    {
     "name": "stderr",
     "output_type": "stream",
     "text": [
      "\n"
     ]
    }
   ],
   "source": [
    "start = 0\n",
    "BATCH_SIZE = 30\n",
    "DATA_SIZE = len(trimmed_data)\n",
    "\n",
    "extracted_keywords = []\n",
    "\n",
    "for start in tqdm(range(0, DATA_SIZE, BATCH_SIZE)):\n",
    "    # Add 150 examples for each prompt\n",
    "    end = start + BATCH_SIZE if start + BATCH_SIZE < DATA_SIZE else None\n",
    "\n",
    "    # Take the slice from the dataset\n",
    "    _input = trimmed_data[start:end] if end else trimmed_data[start:]\n",
    "\n",
    "    # Generate the completion\n",
    "    result = extract_keywords(start, end)\n",
    "    extracted_keywords.extend(result)\n",
    "    print(f\"Extracted keywords for {len(result)} venues. Total Processed: {len(extracted_keywords)}\")\n"
   ]
  },
  {
   "cell_type": "code",
   "execution_count": 118,
   "metadata": {},
   "outputs": [],
   "source": [
    "with open(\"../data/venue_keywords.json\", \"w\", encoding=\"utf-8\") as f:\n",
    "    json.dump(extracted_keywords, f, ensure_ascii=False, indent=4)"
   ]
  },
  {
   "cell_type": "code",
   "execution_count": null,
   "metadata": {},
   "outputs": [],
   "source": []
  }
 ],
 "metadata": {
  "kernelspec": {
   "display_name": ".venv",
   "language": "python",
   "name": "python3"
  },
  "language_info": {
   "codemirror_mode": {
    "name": "ipython",
    "version": 3
   },
   "file_extension": ".py",
   "mimetype": "text/x-python",
   "name": "python",
   "nbconvert_exporter": "python",
   "pygments_lexer": "ipython3",
   "version": "3.11.6"
  }
 },
 "nbformat": 4,
 "nbformat_minor": 2
}
