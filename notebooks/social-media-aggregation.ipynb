{
 "cells": [
  {
   "cell_type": "markdown",
   "metadata": {},
   "source": [
    "# Data Aggregation\n",
    "\n",
    "We need to aggregate the training data for training our multi-modal social media post processing models. The models need to parse the description and media content of the posts. We want to be able to process media in the form of videos and images.\n",
    "\n",
    "It seems like the best data sources are the [TikTok](https://developers.tiktok.com/doc/about-research-api/) and (Instagram)[https://developers.facebook.com/docs/instagram-api/reference/ig-media] APIs. Each API should be scraped to retrieve 1,000 posts ranging over a wide variety of topics and categories. We want a wide variety in post content to avoid biases in the data. For the TikTok posts, all content will be videos. For the Instagram posts, select a variety of media types (`CAROUSEL_ALBUM`, `IMAGE`, or `VIDEO`). \n",
    "\n",
    "Extract the descriptions from every post – this will be the text dataset. Create a dataset of images and videos, to train an image classifier model and a video classifier model. Finally, label every data point with a set of keywords. We will use this labeled data as our training set for the classifier model."
   ]
  },
  {
   "cell_type": "code",
   "execution_count": null,
   "metadata": {},
   "outputs": [],
   "source": []
  }
 ],
 "metadata": {
  "kernelspec": {
   "display_name": ".venv",
   "language": "python",
   "name": "python3"
  },
  "language_info": {
   "codemirror_mode": {
    "name": "ipython",
    "version": 3
   },
   "file_extension": ".py",
   "mimetype": "text/x-python",
   "name": "python",
   "nbconvert_exporter": "python",
   "pygments_lexer": "ipython3",
   "version": "3.11.6"
  }
 },
 "nbformat": 4,
 "nbformat_minor": 2
}
