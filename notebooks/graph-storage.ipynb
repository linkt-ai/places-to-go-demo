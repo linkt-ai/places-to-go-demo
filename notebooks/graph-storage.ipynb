{
 "cells": [
  {
   "cell_type": "markdown",
   "metadata": {},
   "source": [
    "# Graph Storage of Venues\n",
    "Now that we have extracted the keywords from our venue list, it is time to store the Venue's and keywords in a graph database. To do this we will need to parse the extracted keyword-venue JSON objects to create Cypher Statements for writing the entities and relationships to our Neo4J database.\n",
    "\n",
    "This notebook will walk us through a few principle steps:\n",
    "1. Creating Cyphers from the extracted JSON data\n",
    "2. Using Cyphers to write to Neo4J\n",
    "3. Basic querying and exploration of the Graph\n",
    "\n"
   ]
  },
  {
   "cell_type": "code",
   "execution_count": 25,
   "metadata": {},
   "outputs": [
    {
     "data": {
      "text/plain": [
       "True"
      ]
     },
     "execution_count": 25,
     "metadata": {},
     "output_type": "execute_result"
    }
   ],
   "source": [
    "import os\n",
    "from dotenv import load_dotenv\n",
    "\n",
    "load_dotenv()\n"
   ]
  },
  {
   "cell_type": "code",
   "execution_count": 26,
   "metadata": {},
   "outputs": [],
   "source": [
    "# Function for extracting the data from the JSON file into the Cypher Text\n",
    "import json\n",
    "import re\n",
    "\n",
    "from tqdm import tqdm\n",
    "\n",
    "def format_string_value(val: str, split_delim: str) -> str:\n",
    "    words = val.split(split_delim)\n",
    "    title_case = \"\".join([word.title() for word in words])\n",
    "\n",
    "    # Surround any numbers with backticks\n",
    "    num_pattern = r\"\\d+\"\n",
    "    title_case = re.sub(num_pattern, lambda match: f\"`{match.group()}`\", title_case)\n",
    "    \n",
    "    # Surrond any special characters with backticks\n",
    "    special_chars_pattern = r\"[\\'\\(\\),\\.\\:\\;\\!\\/\\&\\-\\ ]\"\n",
    "    title_case = re.sub(special_chars_pattern, lambda match: f\"`{match.group()}`\", title_case)\n",
    "\n",
    "    return title_case\n",
    "\n",
    "with open(\"../data/cypher_entities.json\", 'r') as location_data:\n",
    "    locations = json.load(location_data)"
   ]
  },
  {
   "cell_type": "markdown",
   "metadata": {},
   "source": [
    "Now we have the `venue_data` list, which is a list of dictonaries with the format:\n",
    "```python\n",
    "{\n",
    "    'venue': {\n",
    "        'id': 'LslssTS75mcFf-6pttxKBQ',\n",
    "        'name': 'Panetino Bakery',\n",
    "        'city': 'NYC',\n",
    "        'rating': 5.0\n",
    "    },\n",
    "    'keywords': ['Coffee Culture', 'Baking Passion', 'Gourmet']\n",
    "}\n",
    "```\n",
    "\n",
    "The strings in the keyword list are the labels of the keyword nodes. The label of the venue node is stored in the `label` field, and the Venue's properties are stored in the `properties` field."
   ]
  },
  {
   "cell_type": "code",
   "execution_count": 27,
   "metadata": {},
   "outputs": [],
   "source": [
    "from typing import Dict, List, Union\n",
    "\n",
    "def make_safe(val: Union[str| float]) -> Union[str | float]:\n",
    "    \"\"\"Make a string with ' characters safe for Cypher\"\"\"\n",
    "    if type(val) == str:\n",
    "        return val.replace(\"'\", \"\\\\'\")\n",
    "    return val\n",
    "    \n",
    "def generate_cypher(venue: Dict[str, Union[str, float, List[str]]]) -> str:\n",
    "    e_statements = []\n",
    "    r_statements = []\n",
    "\n",
    "    venue_properties = \", \".join([f\"{key}: '{make_safe(value)}'\" for key, value in venue['venue'].items()]) if 'venue' in venue else \"\"\n",
    "    venue_cypher = f\"MERGE (v:Venue {{ {venue_properties} }})\"\n",
    "    e_statements.append(venue_cypher)\n",
    "\n",
    "    for i, keyword_data in enumerate(venue['keywords']):\n",
    "        keyword, weight = keyword_data\n",
    "        keyword_cypher = f\"MERGE (k{i+1}:Keyword {{ value: '{make_safe(keyword)}' }})\"\n",
    "        e_statements.append(keyword_cypher)\n",
    "        r_statements.append(f\"MERGE (v)-[r{i+1}:HAS_KEYWORD]->(k{i+1}) SET r{i+1}.weight = {weight}\") \n",
    "    \n",
    "    return e_statements, r_statements\n",
    "\n"
   ]
  },
  {
   "cell_type": "code",
   "execution_count": 28,
   "metadata": {},
   "outputs": [
    {
     "data": {
      "text/plain": [
       "2813"
      ]
     },
     "execution_count": 28,
     "metadata": {},
     "output_type": "execute_result"
    }
   ],
   "source": [
    "\n",
    "cypher_statements = []\n",
    "\n",
    "# Conver the cypher entity data into cypher statements\n",
    "for venue in locations:\n",
    "    e_statements, r_statements = generate_cypher(venue)\n",
    "    cypher_statemnt = \"\\n\".join(e_statements + r_statements)\n",
    "    cypher_statements.append(cypher_statemnt)\n",
    "\n",
    "len(cypher_statements)"
   ]
  },
  {
   "cell_type": "code",
   "execution_count": 29,
   "metadata": {},
   "outputs": [],
   "source": [
    "\n",
    "with open(\"../data/cypher_statements.json\", \"w\") as f:\n",
    "    json.dump(cypher_statements, f, indent=4)"
   ]
  },
  {
   "cell_type": "code",
   "execution_count": 31,
   "metadata": {},
   "outputs": [],
   "source": [
    "import os\n",
    "from neo4j import GraphDatabase\n",
    "\n",
    "DB_USER = os.getenv(\"NEO4J_DATABASE_USERNAME\")\n",
    "DB_URL = os.getenv(\"NEO4J_DATABASE_URL\")\n",
    "DB_PASSWORD = os.getenv(\"NEO4J_DATABASE_PASSWORD\")\n",
    "\n",
    "driver = GraphDatabase.driver(DB_URL, auth=(DB_USER, DB_PASSWORD))\n",
    "def execute_query(driver, query):\n",
    "    with driver.session() as session:\n",
    "        return session.run(query)\n",
    "\n",
    "for statement in cypher_statements:\n",
    "    execute_query(driver, statement)\n",
    "\n",
    "driver.close()\n"
   ]
  },
  {
   "cell_type": "code",
   "execution_count": null,
   "metadata": {},
   "outputs": [],
   "source": []
  }
 ],
 "metadata": {
  "kernelspec": {
   "display_name": ".venv",
   "language": "python",
   "name": "python3"
  },
  "language_info": {
   "codemirror_mode": {
    "name": "ipython",
    "version": 3
   },
   "file_extension": ".py",
   "mimetype": "text/x-python",
   "name": "python",
   "nbconvert_exporter": "python",
   "pygments_lexer": "ipython3",
   "version": "3.11.6"
  }
 },
 "nbformat": 4,
 "nbformat_minor": 2
}
