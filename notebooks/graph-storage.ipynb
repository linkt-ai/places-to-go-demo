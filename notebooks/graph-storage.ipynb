{
 "cells": [
  {
   "cell_type": "markdown",
   "metadata": {},
   "source": [
    "# Graph Storage of Venues\n",
    "Now that we have extracted the keywords from our venue list, it is time to store the Venue's and keywords in a graph database. To do this we will need to parse the extracted keyword-venue JSON objects to create Cypher Statements for writing the entities and relationships to our Neo4J database.\n",
    "\n",
    "This notebook will walk us through a few principle steps:\n",
    "1. Creating Cyphers from the extracted JSON data\n",
    "2. Using Cyphers to write to Neo4J\n",
    "3. Basic querying and exploration of the Graph\n",
    "\n"
   ]
  },
  {
   "cell_type": "code",
   "execution_count": 69,
   "metadata": {},
   "outputs": [],
   "source": [
    "import os\n",
    "from dotenv import load_dotenv\n",
    "\n",
    "load_dotenv()\n",
    "\n",
    "YELP_API_KEY = os.getenv(\"YELP_API_KEY\")"
   ]
  },
  {
   "cell_type": "code",
   "execution_count": 90,
   "metadata": {},
   "outputs": [
    {
     "data": {
      "text/plain": [
       "{'name': 'Guest - New York', 'rating': 5.0}"
      ]
     },
     "execution_count": 90,
     "metadata": {},
     "output_type": "execute_result"
    }
   ],
   "source": [
    "import requests\n",
    "\n",
    "# Yelp Fusion API URL\n",
    "API_URL = \"https://api.yelp.com/v3\"\n",
    "BUSINESS_SEARCH_ENDPOINT = \"/businesses/{}\"\n",
    "\n",
    "# Search Params For API Request\n",
    "\n",
    "# Authorization\n",
    "HEADERS = {\n",
    "    \"Authorization\": \"Bearer \" + YELP_API_KEY,\n",
    "}\n",
    "\n",
    "def request_city_data(biz_id: str):\n",
    "    \"\"\"Request data from Yelp API for a given city\"\"\"\n",
    "    url = API_URL + BUSINESS_SEARCH_ENDPOINT.format(biz_id)\n",
    "    results = requests.get(url, headers=HEADERS).json()\n",
    "    try:\n",
    "        return {'name': results['name'], 'rating': results['rating']}\n",
    "    except KeyError:\n",
    "        return None\n",
    "\n",
    "request_city_data(\"C6ohbrxuiGBuk7_a4oqy4Q\")"
   ]
  },
  {
   "cell_type": "code",
   "execution_count": 92,
   "metadata": {},
   "outputs": [
    {
     "name": "stderr",
     "output_type": "stream",
     "text": [
      "100%|██████████| 5/5 [00:01<00:00,  4.33it/s]\n"
     ]
    }
   ],
   "source": [
    "# Function for extracting the data from the JSON file into the Cypher Text\n",
    "import json\n",
    "import re\n",
    "\n",
    "from tqdm import tqdm\n",
    "\n",
    "def title_case_string(val: str, split_delim: str) -> str:\n",
    "    words = val.split(split_delim)\n",
    "    title_case = \"\".join([word.title() for word in words])\n",
    "\n",
    "    # Surround any numbers with backticks\n",
    "    num_pattern = r\"\\d+\"\n",
    "    title_case = re.sub(num_pattern, lambda match: f\"`{match.group()}`\", title_case)\n",
    "    \n",
    "    # Surrond any special characters with backticks\n",
    "    special_chars_pattern = r\"[\\'\\(\\),\\.\\:\\;\\!\\/\\&\\-\\ ]\"\n",
    "    title_case = re.sub(special_chars_pattern, lambda match: f\"`{match.group()}`\", title_case)\n",
    "\n",
    "    return title_case\n",
    "\n",
    "with open(\"../data/trimmed_location_data.json\", 'r') as locations:\n",
    "    location_data = json.load(locations)\n",
    "    location_data = {loc['id']: {'name': loc['name'], 'rating': loc['rating']} for loc in location_data}\n",
    "\n",
    "with open(\"../data/normalized_keywords.json\", \"r\") as venues:\n",
    "    venue_data = json.load(venues)\n",
    "    joined_data = []\n",
    "    for venue in tqdm(venue_data):\n",
    "        try:\n",
    "            loc_data = request_city_data(venue['id'])\n",
    "            venue['properties'] = dict()\n",
    "            venue['properties']['name'] = loc_data['name']\n",
    "            venue['properties']['rating'] = loc_data['rating']\n",
    "            venue['properties']['id'] = venue['id']\n",
    "            del venue['id']\n",
    "            joined_data.append(venue)\n",
    "        except Exception as e:\n",
    "            del venue\n",
    "            print(\"Error: \", e)\n",
    "            continue\n",
    "\n",
    "with open(\"../data/venue_keywords_joined.json\", \"w\") as f:\n",
    "    json.dump(joined_data, f, indent=4)"
   ]
  },
  {
   "cell_type": "markdown",
   "metadata": {},
   "source": [
    "Now we have the `venue_data` list, which is a list of dictonaries with the format:\n",
    "```python\n",
    "{\n",
    "    \"keywords\": [\n",
    "        \"BakingPassion\",\n",
    "        \"SweetTreats\"\n",
    "    ],\n",
    "    \"label\": \"Mimi`&`CocoBagelsAndBakery\",\n",
    "    \"properties\": {\n",
    "        \"name\": \"Mimi & Coco Bagels And Bakery\",\n",
    "        \"rating\": 5.0,\n",
    "        \"id\": \"DZDc1dCf8Xa-e3X76vYTJQ\"\n",
    "    }\n",
    "}\n",
    "```\n",
    "\n",
    "The strings in the keyword list are the labels of the keyword nodes. The label of the venue node is stored in the `label` field, and the Venue's properties are stored in the `properties` field."
   ]
  },
  {
   "cell_type": "code",
   "execution_count": 63,
   "metadata": {},
   "outputs": [],
   "source": [
    "from typing import Dict, List, Union\n",
    "\n",
    "def make_safe(val: Union[str| float]) -> Union[str | float]:\n",
    "    if type(val) == str:\n",
    "        return val.replace(\"'\", \"\\\\'\")\n",
    "    return val\n",
    "    \n",
    "def generate_cypher(venue: Dict[str, Union[str, float, List[str]]]) -> str:\n",
    "    e_statements = []\n",
    "    r_statements = []\n",
    "\n",
    "    venue_properties = \", \".join([f\"{key}: '{make_safe(value)}'\" for key, value in venue['properties'].items()]) if 'properties' in venue else \"\"\n",
    "    venue_cypher = f\"MERGE (v:Venue {{ {venue_properties} }})\"\n",
    "    e_statements.append(venue_cypher)\n",
    "\n",
    "    for i, keyword in enumerate(venue['keywords']):\n",
    "        keyword_cypher = f\"MERGE (k{i+1}:Keyword {{ value: '{keyword}' }})\"\n",
    "        e_statements.append(keyword_cypher)\n",
    "        r_statements.append(f\"MERGE (v)-[:HAS_KEYWORD]->(k{i+1})\") \n",
    "    \n",
    "    return e_statements, r_statements\n",
    "\n",
    "cypher_statements = []\n",
    "\n",
    "for venue in venue_data:\n",
    "    e_statements, r_statements = generate_cypher(venue)\n",
    "    cypher_statemnt = \"\\n\".join(e_statements + r_statements)\n",
    "    cypher_statements.append(cypher_statemnt)\n",
    "\n",
    "with open(\"../data/cypher_statements.json\", \"w\") as f:\n",
    "    json.dump(cypher_statements, f, indent=4)"
   ]
  },
  {
   "cell_type": "code",
   "execution_count": 64,
   "metadata": {},
   "outputs": [],
   "source": [
    "from neo4j import GraphDatabase\n",
    "\n",
    "DB_USER = os.getenv(\"NEO4J_DATABASE_USERNAME\")\n",
    "DB_URL = os.getenv(\"NEO4J_DATABASE_URL\")\n",
    "DB_PASSWORD = os.getenv(\"NEO4J_DATABASE_PASSWORD\")\n",
    "\n",
    "driver = GraphDatabase.driver(DB_URL, auth=(DB_USER, DB_PASSWORD))\n",
    "def execute_query(driver, query):\n",
    "    with driver.session() as session:\n",
    "        return session.run(query)\n",
    "\n",
    "for statement in cypher_statements:\n",
    "    execute_query(driver, statement)\n",
    "\n",
    "driver.close()\n"
   ]
  },
  {
   "cell_type": "code",
   "execution_count": null,
   "metadata": {},
   "outputs": [],
   "source": []
  }
 ],
 "metadata": {
  "kernelspec": {
   "display_name": ".venv",
   "language": "python",
   "name": "python3"
  },
  "language_info": {
   "codemirror_mode": {
    "name": "ipython",
    "version": 3
   },
   "file_extension": ".py",
   "mimetype": "text/x-python",
   "name": "python",
   "nbconvert_exporter": "python",
   "pygments_lexer": "ipython3",
   "version": "3.11.6"
  }
 },
 "nbformat": 4,
 "nbformat_minor": 2
}
